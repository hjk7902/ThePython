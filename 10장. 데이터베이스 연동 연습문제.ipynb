{
 "cells": [
  {
   "cell_type": "code",
   "execution_count": 1,
   "metadata": {},
   "outputs": [],
   "source": [
    "import sqlite3\n",
    "import pandas as pd"
   ]
  },
  {
   "cell_type": "code",
   "execution_count": 2,
   "metadata": {},
   "outputs": [],
   "source": [
    "class Member:\n",
    "    def __init__(self, name, phone, email, age, grade, etc):\n",
    "        self.name = name\n",
    "        self.phone = phone\n",
    "        self.email = email\n",
    "        self.age = age\n",
    "        self.grade = grade\n",
    "        self.etc = etc\n",
    "        \n",
    "    def __str__(self):\n",
    "        return (\"name: {}, phone: {}, email: {}, age: {}, grade: {}\"\\\n",
    "                .fomat(self.name, self.phone, self.email, self.age, \n",
    "                       self.grade, self.etc))\n",
    "    \n",
    "    def to_dict(self):\n",
    "        return {\"name\":self.name, \"phone\":self.phone, \"email\":self.email,\n",
    "                \"age\":self.age, \"grade\":self.grade, \"etc\":self.etc}\n"
   ]
  },
  {
   "cell_type": "code",
   "execution_count": 3,
   "metadata": {},
   "outputs": [],
   "source": [
    "def insert_member_info():\n",
    "    cursor = conn.cursor()\n",
    "    name = input(\"이름: \")\n",
    "    phone = input(\"전화번호: \")\n",
    "    email = input(\"이메일: \")\n",
    "    age = int(input(\"나이: \"))\n",
    "    grade = int(input(\"고객등급(1~5): \"))\n",
    "    etc = input(\"기타정보: \")\n",
    "    member = Member(name, phone, email, age, grade, etc)\n",
    "    cursor.execute(\"\"\"insert into member values \n",
    "                      (:name, :phone, :email, :age, :grade, :etc)\"\"\",\n",
    "                   member.to_dict())\n"
   ]
  },
  {
   "cell_type": "code",
   "execution_count": 4,
   "metadata": {},
   "outputs": [],
   "source": [
    "def get_all_members():\n",
    "    cursor=conn.cursor()\n",
    "    cursor.execute(\"select * from member\")\n",
    "    for member in cursor:\n",
    "        print(member)\n",
    "\n"
   ]
  },
  {
   "cell_type": "code",
   "execution_count": 5,
   "metadata": {},
   "outputs": [],
   "source": [
    "def search_member(name):\n",
    "    cursor = conn.cursor()\n",
    "    cursor.execute(\"select * from member where name=:name\",\n",
    "                   {\"name\":name})\n",
    "    for member in cursor:\n",
    "        print(member)\n",
    "\n"
   ]
  },
  {
   "cell_type": "code",
   "execution_count": 6,
   "metadata": {},
   "outputs": [],
   "source": [
    "def delete_member(email):\n",
    "    cursor = conn.cursor();\n",
    "    cursor.execute(\"delete from member where email=:email\",\n",
    "                   {\"email\":email})\n"
   ]
  },
  {
   "cell_type": "code",
   "execution_count": 7,
   "metadata": {},
   "outputs": [],
   "source": [
    "def export_member():\n",
    "    file_name = input(\"파일명을 입력하세요.\")\n",
    "    cursor = conn.cursor()\n",
    "    cursor.execute(\"SELECT * FROM member\")\n",
    "    members = cursor.fetchall()\n",
    "    colnames = [ row[0] for row in cursor.description ]\n",
    "    import csv\n",
    "    with open(file_name, 'w', newline='', encoding=\"UTF8\") as file:\n",
    "        w = csv.writer(file, quoting=csv.QUOTE_NONNUMERIC)\n",
    "        w.writerow(colnames)\n",
    "        w.writerows(members)\n"
   ]
  },
  {
   "cell_type": "code",
   "execution_count": 8,
   "metadata": {},
   "outputs": [],
   "source": [
    "def print_menu():\n",
    "    print(\"1.입력\", \"2.전체조회\", \"3.삭제\", \"4.찾기\", \"5.내보내기(CSV)\", \n",
    "          \"0. 종료\", sep=\" | \", end=\"\")\n",
    "    menu = input(\"메뉴선택: \")\n",
    "    return int(menu)\n"
   ]
  },
  {
   "cell_type": "code",
   "execution_count": 9,
   "metadata": {},
   "outputs": [],
   "source": [
    "def main():\n",
    "    while True:\n",
    "        menu = print_menu()\n",
    "        if menu==1:\n",
    "            insert_member_info()\n",
    "            conn.commit()\n",
    "        elif menu==2:\n",
    "            get_all_members()\n",
    "        elif menu==3:\n",
    "            name = input(\"찾고 싶은 회원의 이름을 입력하세요.\")\n",
    "            search_member(name)\n",
    "        elif menu==4:\n",
    "            email = input(\"삭제할 회원의 이메일을 입력하세요.\")\n",
    "            delete_member(email)\n",
    "            conn.commit()\n",
    "        elif menu==5:\n",
    "            export_member()\n",
    "        elif menu==0:\n",
    "            conn.close()\n",
    "            break\n",
    "\n"
   ]
  },
  {
   "cell_type": "code",
   "execution_count": 10,
   "metadata": {},
   "outputs": [
    {
     "name": "stdout",
     "output_type": "stream",
     "text": [
      "1.입력 | 2.전체조회 | 3.삭제 | 4.찾기 | 5.내보내기(CSV) | 0. 종료메뉴선택: 1\n",
      "이름: 홍길동\n",
      "전화번호: 011\n",
      "이메일: hong@hong.com\n",
      "나이: 20\n",
      "고객등급(1~5): 3\n",
      "기타정보: 없음\n",
      "1.입력 | 2.전체조회 | 3.삭제 | 4.찾기 | 5.내보내기(CSV) | 0. 종료메뉴선택: 2\n",
      "('홍길동', '011', 'hong@hong.com', 20, 3, '없음')\n",
      "1.입력 | 2.전체조회 | 3.삭제 | 4.찾기 | 5.내보내기(CSV) | 0. 종료메뉴선택: 2\n",
      "('홍길동', '011', 'hong@hong.com', 20, 3, '없음')\n",
      "1.입력 | 2.전체조회 | 3.삭제 | 4.찾기 | 5.내보내기(CSV) | 0. 종료메뉴선택: 5\n",
      "파일명을 입력하세요.member_db.csv\n",
      "1.입력 | 2.전체조회 | 3.삭제 | 4.찾기 | 5.내보내기(CSV) | 0. 종료메뉴선택: 0\n"
     ]
    }
   ],
   "source": [
    "# SQLite를 사용할 경우\n",
    "if __name__ == '__main__':\n",
    "    global conn\n",
    "    conn = sqlite3.connect(\"member.db\")\n",
    "    main()"
   ]
  },
  {
   "cell_type": "code",
   "execution_count": null,
   "metadata": {},
   "outputs": [],
   "source": []
  }
 ],
 "metadata": {
  "kernelspec": {
   "display_name": "Python 3",
   "language": "python",
   "name": "python3"
  },
  "language_info": {
   "codemirror_mode": {
    "name": "ipython",
    "version": 3
   },
   "file_extension": ".py",
   "mimetype": "text/x-python",
   "name": "python",
   "nbconvert_exporter": "python",
   "pygments_lexer": "ipython3",
   "version": "3.7.1"
  }
 },
 "nbformat": 4,
 "nbformat_minor": 2
}
