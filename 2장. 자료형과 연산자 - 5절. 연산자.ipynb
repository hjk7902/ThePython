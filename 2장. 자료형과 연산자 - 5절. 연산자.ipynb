{
 "cells": [
  {
   "cell_type": "code",
   "execution_count": 1,
   "metadata": {},
   "outputs": [
    {
     "data": {
      "text/plain": [
       "(5, -1, 6, 0.6666666666666666)"
      ]
     },
     "execution_count": 1,
     "metadata": {},
     "output_type": "execute_result"
    }
   ],
   "source": [
    "2+3, 2-3, 2*3, 2/3"
   ]
  },
  {
   "cell_type": "code",
   "execution_count": 2,
   "metadata": {},
   "outputs": [
    {
     "data": {
      "text/plain": [
       "5.0"
      ]
     },
     "execution_count": 2,
     "metadata": {},
     "output_type": "execute_result"
    }
   ],
   "source": [
    "25/5"
   ]
  },
  {
   "cell_type": "code",
   "execution_count": 3,
   "metadata": {},
   "outputs": [
    {
     "data": {
      "text/plain": [
       "5"
      ]
     },
     "execution_count": 3,
     "metadata": {},
     "output_type": "execute_result"
    }
   ],
   "source": [
    "26//5"
   ]
  },
  {
   "cell_type": "code",
   "execution_count": 4,
   "metadata": {},
   "outputs": [
    {
     "data": {
      "text/plain": [
       "6"
      ]
     },
     "execution_count": 4,
     "metadata": {},
     "output_type": "execute_result"
    }
   ],
   "source": [
    "2*3"
   ]
  },
  {
   "cell_type": "code",
   "execution_count": 5,
   "metadata": {},
   "outputs": [
    {
     "data": {
      "text/plain": [
       "6.0"
      ]
     },
     "execution_count": 5,
     "metadata": {},
     "output_type": "execute_result"
    }
   ],
   "source": [
    "2*3.0"
   ]
  },
  {
   "cell_type": "code",
   "execution_count": 6,
   "metadata": {},
   "outputs": [
    {
     "data": {
      "text/plain": [
       "5.0"
      ]
     },
     "execution_count": 6,
     "metadata": {},
     "output_type": "execute_result"
    }
   ],
   "source": [
    "26//5.0"
   ]
  },
  {
   "cell_type": "code",
   "execution_count": 7,
   "metadata": {},
   "outputs": [
    {
     "data": {
      "text/plain": [
       "1"
      ]
     },
     "execution_count": 7,
     "metadata": {},
     "output_type": "execute_result"
    }
   ],
   "source": [
    "26 % 5"
   ]
  },
  {
   "cell_type": "code",
   "execution_count": 9,
   "metadata": {},
   "outputs": [
    {
     "data": {
      "text/plain": [
       "0.19999999999999996"
      ]
     },
     "execution_count": 9,
     "metadata": {},
     "output_type": "execute_result"
    }
   ],
   "source": [
    "3.8 % 1.2"
   ]
  },
  {
   "cell_type": "code",
   "execution_count": 10,
   "metadata": {},
   "outputs": [
    {
     "data": {
      "text/plain": [
       "8"
      ]
     },
     "execution_count": 10,
     "metadata": {},
     "output_type": "execute_result"
    }
   ],
   "source": [
    "2**3"
   ]
  },
  {
   "cell_type": "code",
   "execution_count": 11,
   "metadata": {},
   "outputs": [
    {
     "data": {
      "text/plain": [
       "9"
      ]
     },
     "execution_count": 11,
     "metadata": {},
     "output_type": "execute_result"
    }
   ],
   "source": [
    "3**2"
   ]
  },
  {
   "cell_type": "code",
   "execution_count": 12,
   "metadata": {},
   "outputs": [],
   "source": [
    "a = 10"
   ]
  },
  {
   "cell_type": "code",
   "execution_count": 13,
   "metadata": {},
   "outputs": [
    {
     "data": {
      "text/plain": [
       "10"
      ]
     },
     "execution_count": 13,
     "metadata": {},
     "output_type": "execute_result"
    }
   ],
   "source": [
    "a"
   ]
  },
  {
   "cell_type": "code",
   "execution_count": 14,
   "metadata": {},
   "outputs": [],
   "source": [
    "a = 3\n",
    "a += 5"
   ]
  },
  {
   "cell_type": "code",
   "execution_count": 15,
   "metadata": {},
   "outputs": [
    {
     "data": {
      "text/plain": [
       "8"
      ]
     },
     "execution_count": 15,
     "metadata": {},
     "output_type": "execute_result"
    }
   ],
   "source": [
    "a"
   ]
  },
  {
   "cell_type": "code",
   "execution_count": 16,
   "metadata": {},
   "outputs": [],
   "source": [
    "a = 3\n",
    "a = a + 5"
   ]
  },
  {
   "cell_type": "code",
   "execution_count": 17,
   "metadata": {},
   "outputs": [
    {
     "data": {
      "text/plain": [
       "8"
      ]
     },
     "execution_count": 17,
     "metadata": {},
     "output_type": "execute_result"
    }
   ],
   "source": [
    "a"
   ]
  },
  {
   "cell_type": "code",
   "execution_count": 18,
   "metadata": {},
   "outputs": [],
   "source": [
    "a = 3\n",
    "a =+ 5"
   ]
  },
  {
   "cell_type": "code",
   "execution_count": 19,
   "metadata": {},
   "outputs": [
    {
     "data": {
      "text/plain": [
       "5"
      ]
     },
     "execution_count": 19,
     "metadata": {},
     "output_type": "execute_result"
    }
   ],
   "source": [
    "a"
   ]
  },
  {
   "cell_type": "code",
   "execution_count": 20,
   "metadata": {},
   "outputs": [],
   "source": [
    "a = 3\n",
    "a *= 5"
   ]
  },
  {
   "cell_type": "code",
   "execution_count": 21,
   "metadata": {},
   "outputs": [
    {
     "data": {
      "text/plain": [
       "15"
      ]
     },
     "execution_count": 21,
     "metadata": {},
     "output_type": "execute_result"
    }
   ],
   "source": [
    "a"
   ]
  },
  {
   "cell_type": "code",
   "execution_count": 22,
   "metadata": {},
   "outputs": [
    {
     "ename": "SyntaxError",
     "evalue": "can't use starred expression here (<ipython-input-22-4c878de113c2>, line 5)",
     "output_type": "error",
     "traceback": [
      "\u001b[1;36m  File \u001b[1;32m\"<ipython-input-22-4c878de113c2>\"\u001b[1;36m, line \u001b[1;32m5\u001b[0m\n\u001b[1;31mSyntaxError\u001b[0m\u001b[1;31m:\u001b[0m can't use starred expression here\n"
     ]
    }
   ],
   "source": [
    "a = 3\n",
    "a =* 5"
   ]
  },
  {
   "cell_type": "code",
   "execution_count": 23,
   "metadata": {},
   "outputs": [
    {
     "data": {
      "text/plain": [
       "True"
      ]
     },
     "execution_count": 23,
     "metadata": {},
     "output_type": "execute_result"
    }
   ],
   "source": [
    "True & True"
   ]
  },
  {
   "cell_type": "code",
   "execution_count": 24,
   "metadata": {},
   "outputs": [
    {
     "data": {
      "text/plain": [
       "1"
      ]
     },
     "execution_count": 24,
     "metadata": {},
     "output_type": "execute_result"
    }
   ],
   "source": [
    "True & 1"
   ]
  },
  {
   "cell_type": "code",
   "execution_count": 25,
   "metadata": {},
   "outputs": [
    {
     "data": {
      "text/plain": [
       "1"
      ]
     },
     "execution_count": 25,
     "metadata": {},
     "output_type": "execute_result"
    }
   ],
   "source": [
    "True and 1"
   ]
  },
  {
   "cell_type": "code",
   "execution_count": 26,
   "metadata": {},
   "outputs": [],
   "source": [
    "result = True and 1 and 0"
   ]
  },
  {
   "cell_type": "code",
   "execution_count": 27,
   "metadata": {},
   "outputs": [
    {
     "data": {
      "text/plain": [
       "0"
      ]
     },
     "execution_count": 27,
     "metadata": {},
     "output_type": "execute_result"
    }
   ],
   "source": [
    "result"
   ]
  },
  {
   "cell_type": "code",
   "execution_count": 28,
   "metadata": {},
   "outputs": [],
   "source": [
    "result = False or 0 or '' or 0.0 or 10"
   ]
  },
  {
   "cell_type": "code",
   "execution_count": 29,
   "metadata": {},
   "outputs": [
    {
     "data": {
      "text/plain": [
       "10"
      ]
     },
     "execution_count": 29,
     "metadata": {},
     "output_type": "execute_result"
    }
   ],
   "source": [
    "result"
   ]
  },
  {
   "cell_type": "code",
   "execution_count": 36,
   "metadata": {},
   "outputs": [
    {
     "ename": "TypeError",
     "evalue": "unsupported operand type(s) for &: 'int' and 'str'",
     "output_type": "error",
     "traceback": [
      "\u001b[1;31m---------------------------------------------------------------------------\u001b[0m",
      "\u001b[1;31mTypeError\u001b[0m                                 Traceback (most recent call last)",
      "\u001b[1;32m<ipython-input-36-d1855a61a1e4>\u001b[0m in \u001b[0;36m<module>\u001b[1;34m\u001b[0m\n\u001b[1;32m----> 1\u001b[1;33m \u001b[0mresult\u001b[0m \u001b[1;33m=\u001b[0m \u001b[1;32mTrue\u001b[0m \u001b[1;33m&\u001b[0m \u001b[1;36m1\u001b[0m \u001b[1;33m&\u001b[0m \u001b[1;36m0\u001b[0m \u001b[1;33m&\u001b[0m \u001b[1;34m''\u001b[0m\u001b[1;33m\u001b[0m\u001b[1;33m\u001b[0m\u001b[0m\n\u001b[0m\u001b[0;32m      2\u001b[0m \u001b[0mresult\u001b[0m\u001b[1;33m\u001b[0m\u001b[1;33m\u001b[0m\u001b[0m\n",
      "\u001b[1;31mTypeError\u001b[0m: unsupported operand type(s) for &: 'int' and 'str'"
     ]
    }
   ],
   "source": [
    "result = True & 1 & 0 & ''\n",
    "result"
   ]
  },
  {
   "cell_type": "code",
   "execution_count": 38,
   "metadata": {},
   "outputs": [
    {
     "ename": "TypeError",
     "evalue": "unsupported operand type(s) for |: 'int' and 'str'",
     "output_type": "error",
     "traceback": [
      "\u001b[1;31m---------------------------------------------------------------------------\u001b[0m",
      "\u001b[1;31mTypeError\u001b[0m                                 Traceback (most recent call last)",
      "\u001b[1;32m<ipython-input-38-074738f39882>\u001b[0m in \u001b[0;36m<module>\u001b[1;34m\u001b[0m\n\u001b[1;32m----> 1\u001b[1;33m \u001b[0mresult\u001b[0m \u001b[1;33m=\u001b[0m \u001b[1;32mFalse\u001b[0m \u001b[1;33m|\u001b[0m \u001b[1;36m0\u001b[0m \u001b[1;33m|\u001b[0m \u001b[1;34m''\u001b[0m\u001b[1;33m\u001b[0m\u001b[1;33m\u001b[0m\u001b[0m\n\u001b[0m",
      "\u001b[1;31mTypeError\u001b[0m: unsupported operand type(s) for |: 'int' and 'str'"
     ]
    }
   ],
   "source": [
    "result = False | 0 | ''"
   ]
  },
  {
   "cell_type": "code",
   "execution_count": 39,
   "metadata": {},
   "outputs": [
    {
     "name": "stderr",
     "output_type": "stream",
     "text": [
      "'True'은(는) 내부 또는 외부 명령, 실행할 수 있는 프로그램, 또는\n",
      "배치 파일이 아닙니다.\n"
     ]
    }
   ],
   "source": [
    "! True"
   ]
  },
  {
   "cell_type": "code",
   "execution_count": 40,
   "metadata": {},
   "outputs": [
    {
     "name": "stdout",
     "output_type": "stream",
     "text": [
      " C 드라이브의 볼륨에는 이름이 없습니다.\n",
      " 볼륨 일련 번호: C211-712B\n",
      "\n",
      " C:\\Users\\JK 디렉터리\n",
      "\n",
      "2020-03-08  오후 02:25    <DIR>          .\n",
      "2020-03-08  오후 02:25    <DIR>          ..\n",
      "2019-07-28  오후 01:00    <DIR>          .astropy\n",
      "2019-07-28  오후 07:31    <DIR>          .conda\n",
      "2019-07-14  오후 09:00    <DIR>          .eclipse\n",
      "2020-03-08  오후 02:13    <DIR>          .ipynb_checkpoints\n",
      "2019-06-25  오후 03:55    <DIR>          .ipython\n",
      "2019-06-26  오후 11:49    <DIR>          .jupyter\n",
      "2019-06-26  오후 10:57    <DIR>          .keras\n",
      "2019-07-09  오후 09:41    <DIR>          .m2\n",
      "2019-06-27  오후 01:41    <DIR>          .matplotlib\n",
      "2019-07-14  오후 09:35    <DIR>          .p2\n",
      "2019-07-28  오후 07:29    <DIR>          .PyCharm2019.2\n",
      "2019-10-06  오전 11:49    <DIR>          .spyder-py3\n",
      "2019-07-14  오후 08:33    <DIR>          .tooling\n",
      "2020-03-07  오후 09:54             7,081 2장. 자료형과 연산자 - 2절. 화면 입출력.ipynb\n",
      "2020-03-08  오전 03:12            13,621 2장. 자료형과 연산자 - 3절. 기본 자료형.ipynb\n",
      "2020-03-08  오전 09:36             5,675 2장. 자료형과 연산자 - 4절. 출력 형식 지정.ipynb\n",
      "2020-03-08  오후 02:09               555 2장. 자료형과 연산자 - 5절. 연산자.ipynb\n",
      "2020-02-14  오후 10:45    <DIR>          3D Objects\n",
      "2020-03-03  오전 12:31    <DIR>          Anaconda3\n",
      "2019-06-27  오전 02:04           692,963 ArticlesApril2018.csv\n",
      "2019-09-11  오전 12:00             2,302 bestseller.csv\n",
      "2019-11-28  오전 07:02               192 BullseyeCoverageError.txt\n",
      "2019-09-26  오전 02:13        46,835,340 CLAIM_DATA.csv\n",
      "2020-02-14  오후 10:45    <DIR>          Contacts\n",
      "2019-09-26  오전 02:13         4,088,118 CUST_DATA.csv\n",
      "2019-12-12  오후 09:00         2,065,780 CUST_DATA_결측치처리.csv\n",
      "2019-12-12  오후 09:00         3,547,106 CUST_DATA_더미코딩후.csv\n",
      "2019-12-12  오후 09:00         1,977,889 CUST_DATA_전처리1.csv\n",
      "2019-12-12  오후 09:00         7,833,025 CUST_DATA_전처리완료.csv\n",
      "2019-12-12  오후 09:00         6,016,461 CUST_DATA_파생변수추가.csv\n",
      "2018-07-23  오후 03:56           475,273 data_cust_2-3_test.csv\n",
      "2018-07-23  오후 03:56         1,107,756 data_cust_2-3_train.csv\n",
      "2020-03-07  오후 07:01    <DIR>          Desktop\n",
      "2020-03-04  오후 04:44    <DIR>          Documents\n",
      "2020-03-07  오후 07:10    <DIR>          Downloads\n",
      "2020-03-03  오후 09:28    <DIR>          Favorites\n",
      "2019-10-29  오후 09:34            18,089 foo.png\n",
      "2020-02-02  오전 07:56                29 Foxit Reader SDK ActiveX.ini\n",
      "2019-06-25  오전 08:04    <DIR>          Google 드라이브\n",
      "2019-07-28  오후 03:02    <DIR>          images\n",
      "2019-12-02  오후 10:39             3,880 iris 데이터 특잇값 분해.ipynb\n",
      "2019-09-26  오전 04:01             4,009 iris.csv\n",
      "2019-09-07  오전 10:40             4,009 iris.csv.gc\n",
      "2019-09-26  오전 04:01               884 iris.csv.gz\n",
      "2020-03-03  오후 09:23           326,514 KCase.log\n",
      "2020-02-14  오후 10:45    <DIR>          Links\n",
      "2019-06-26  오후 11:23    <DIR>          logs\n",
      "2019-10-06  오전 11:03            34,172 LSTM.ipynb\n",
      "2019-06-26  오후 11:57    <DIR>          MNIST_data\n",
      "2019-11-24  오후 08:52        11,599,381 MNIST_data.zip\n",
      "2019-10-06  오전 10:16         2,664,792 mnist_keras_model.h5\n",
      "2019-10-06  오후 12:52    <DIR>          model\n",
      "2019-07-28  오후 03:41             9,433 model.json\n",
      "2020-02-14  오후 10:45    <DIR>          Music\n",
      "2019-09-11  오전 12:05            31,905 news.txt\n",
      "2019-07-02  오전 01:02            17,745 NLTK.ipynb\n",
      "2019-11-25  오후 07:58    <DIR>          offline_pac\n",
      "2020-02-22  오전 08:45    <DIR>          OneDrive\n",
      "2019-07-14  오후 08:14    <DIR>          Oracle\n",
      "2019-10-30  오후 10:46             4,107 packagelist.txt\n",
      "2020-02-14  오후 10:45    <DIR>          Pictures\n",
      "2019-07-28  오후 07:30    <DIR>          PycharmProjects\n",
      "2019-10-13  오후 05:55             2,866 PyQT 예제.ipynb\n",
      "2019-12-12  오후 09:05            15,251 result.csv\n",
      "2019-12-12  오후 09:05            15,251 result98.csv\n",
      "2019-10-13  오후 09:56           539,666 rf.model\n",
      "2019-06-27  오전 02:35            26,248 RNN.ipynb\n",
      "2020-02-14  오후 10:45    <DIR>          Saved Games\n",
      "2019-07-07  오전 08:36    <DIR>          saved_models\n",
      "2019-09-06  오후 08:57    <DIR>          seaborn-data\n",
      "2020-02-14  오후 10:45    <DIR>          Searches\n",
      "2019-07-26  오전 12:01             5,501 Selenium 예제.ipynb\n",
      "2019-06-24  오후 04:00    <DIR>          source\n",
      "2019-05-23  오전 01:40             6,924 south_korea.png\n",
      "2019-05-23  오전 01:43           168,566 south_korea_4x.png\n",
      "2019-09-07  오전 09:06    <DIR>          statsmodels_data\n",
      "2019-10-30  오후 10:53           488,541 tensorflow_estimator-1.14.0-py2.py3-none-any.whl\n",
      "2019-08-13  오후 11:15    <DIR>          The Python - 머신러닝_소스코드\n",
      "2020-03-08  오후 02:25            10,197 Untitled.ipynb\n",
      "2020-02-14  오후 10:45    <DIR>          Videos\n",
      "2018-11-14  오후 06:05            85,797 winequality-red.csv\n",
      "2019-12-01  오후 03:45            16,983 계층형 추출.ipynb\n",
      "2019-12-05  오전 12:43           136,533 군집분석의 한계_구형이 아닐 때.ipynb\n",
      "2019-12-05  오전 12:27           104,182 군집분석의 한계_밀도가 다를 때.ipynb\n",
      "2019-12-05  오전 12:17           197,078 군집분석의 한계_크기가 다를 때.ipynb\n",
      "2019-10-12  오후 07:16           468,979 뉴스기사 크롤링 후 형태소분석과 워드 클라우드 그리기.ipynb\n",
      "2019-12-01  오후 06:37            12,603 딥러닝(텐서플로우를)을 이용한  와인데이터 분류(입력층-은닉층-출력층).ipynb\n",
      "2019-12-01  오전 10:36            12,835 딥러닝(텐서플로우를)을 이용한 와인데이터 분류(입력층-은닉층-은닉층-출력층).ipynb\n",
      "2019-12-01  오후 12:38            21,354 딥러닝(텐서플로우를)을 이용한 와인데이터 분류(입력층-출력층)-3,4,8등급 제외.ipynb\n",
      "2019-12-01  오후 04:23            22,663 딥러닝(텐서플로우를)을 이용한 와인데이터 분류(입력층-출력층)-계층형추출.ipynb\n",
      "2019-12-01  오후 06:49            42,294 딥러닝(텐서플로우를)을 이용한 와인데이터 분류(입력층-출력층)-오버샘플링.ipynb\n",
      "2019-11-29  오후 06:45            85,883 딥러닝(텐서플로우를)을 이용한 패션MNIST 데이터 분류.ipynb\n",
      "2019-10-13  오후 09:57           459,641 머신러닝 모형 생성과 변수 탐색 그리고 파라미터 탐색.ipynb\n",
      "2019-12-12  오후 09:22           214,727 머신러닝 테스트 문제-Copy1.ipynb\n",
      "2019-12-12  오후 09:25             8,879 머신러닝 테스트 문제.ipynb\n",
      "2019-10-12  오후 04:57             2,554 모델 불러와 예측하기.ipynb\n",
      "2019-09-26  오전 03:58           563,089 보험사기자 데이터 탐색 및 전처리.ipynb\n",
      "2019-09-27  오후 10:12         1,899,440 보험사기자 찾기 분석.ipynb\n",
      "2019-10-20  오후 09:41         1,824,124 보험사기자 찾기 분석_v1.1.ipynb\n",
      "2019-12-12  오후 09:07         4,944,729 보험사기자 찾기 분석_v1.2.ipynb\n",
      "2019-12-24  오후 09:50         4,930,784 보험사기자 찾기 분석_v1.3.ipynb\n",
      "2019-10-05  오후 06:13           482,299 보험사기자 찾기 전처리_ver2.ipynb\n",
      "2019-10-06  오후 12:48            93,186 언어인지 알고리즘 시험문제 정답.ipynb\n",
      "2019-10-06  오후 12:52            93,130 언어인지 알고리즘 시험문제.ipynb\n",
      "2019-07-28  오후 07:19    <DIR>          얼굴 감정 인식\n",
      "2019-12-02  오후 11:15           258,880 얼굴이미지 주성분분석-수정본2.ipynb\n",
      "2019-08-10  오전 11:12    <DIR>          여름학기_기말시험\n",
      "2019-10-06  오전 10:40            88,020 연관분석.ipynb\n",
      "2020-01-09  오전 05:47             8,369 와인 데이터 등급 분류.ipynb\n",
      "2019-10-06  오후 12:48            84,525 케라스.ipynb\n",
      "2020-01-09  오전 05:17            83,586 케라스를 이용한 와인데이터 분류.ipynb\n",
      "2020-03-01  오후 03:47            22,290 코로나19 누적 확진자 예측하기.ipynb\n",
      "2019-10-06  오전 10:03         1,790,206 텍스트 마이닝.ipynb\n",
      "2019-08-10  오전 11:07             8,448 텐서플로우를 이용한 MNIST 데이터 CNN 모델링.ipynb\n",
      "2019-10-14  오후 09:30            10,444 텐서플로우를 이용한 보험사기자 분류.ipynb\n",
      "2019-07-09  오후 09:41    <DIR>          파이썬 프로그래밍 소스코드\n",
      "2019-09-26  오전 03:10         4,416,187 홍길동_result.csv\n",
      "2019-10-11  오후 11:43           110,604 활성화 함수.ipynb\n",
      "              75개 파일         114,272,422 바이트\n",
      "              45개 디렉터리  83,958,325,248 바이트 남음\n"
     ]
    }
   ],
   "source": [
    "! dir"
   ]
  },
  {
   "cell_type": "code",
   "execution_count": 41,
   "metadata": {},
   "outputs": [
    {
     "data": {
      "text/plain": [
       "False"
      ]
     },
     "execution_count": 41,
     "metadata": {},
     "output_type": "execute_result"
    }
   ],
   "source": [
    "not True"
   ]
  },
  {
   "cell_type": "code",
   "execution_count": 42,
   "metadata": {},
   "outputs": [
    {
     "data": {
      "text/plain": [
       "True"
      ]
     },
     "execution_count": 42,
     "metadata": {},
     "output_type": "execute_result"
    }
   ],
   "source": [
    "not False"
   ]
  },
  {
   "cell_type": "code",
   "execution_count": 43,
   "metadata": {},
   "outputs": [
    {
     "data": {
      "text/plain": [
       "True"
      ]
     },
     "execution_count": 43,
     "metadata": {},
     "output_type": "execute_result"
    }
   ],
   "source": [
    "not 0"
   ]
  },
  {
   "cell_type": "code",
   "execution_count": 44,
   "metadata": {},
   "outputs": [
    {
     "data": {
      "text/plain": [
       "False"
      ]
     },
     "execution_count": 44,
     "metadata": {},
     "output_type": "execute_result"
    }
   ],
   "source": [
    "not 1"
   ]
  },
  {
   "cell_type": "code",
   "execution_count": 45,
   "metadata": {},
   "outputs": [
    {
     "data": {
      "text/plain": [
       "True"
      ]
     },
     "execution_count": 45,
     "metadata": {},
     "output_type": "execute_result"
    }
   ],
   "source": [
    "10 > 5"
   ]
  },
  {
   "cell_type": "code",
   "execution_count": 46,
   "metadata": {},
   "outputs": [
    {
     "data": {
      "text/plain": [
       "True"
      ]
     },
     "execution_count": 46,
     "metadata": {},
     "output_type": "execute_result"
    }
   ],
   "source": [
    "'abc' > 'ABC'"
   ]
  },
  {
   "cell_type": "code",
   "execution_count": 49,
   "metadata": {},
   "outputs": [
    {
     "data": {
      "text/plain": [
       "True"
      ]
     },
     "execution_count": 49,
     "metadata": {},
     "output_type": "execute_result"
    }
   ],
   "source": [
    "True > False"
   ]
  },
  {
   "cell_type": "code",
   "execution_count": 50,
   "metadata": {},
   "outputs": [
    {
     "data": {
      "text/plain": [
       "1"
      ]
     },
     "execution_count": 50,
     "metadata": {},
     "output_type": "execute_result"
    }
   ],
   "source": [
    "int(True)"
   ]
  },
  {
   "cell_type": "code",
   "execution_count": 51,
   "metadata": {},
   "outputs": [
    {
     "data": {
      "text/plain": [
       "0"
      ]
     },
     "execution_count": 51,
     "metadata": {},
     "output_type": "execute_result"
    }
   ],
   "source": [
    "int(False)"
   ]
  },
  {
   "cell_type": "code",
   "execution_count": 52,
   "metadata": {},
   "outputs": [
    {
     "name": "stdout",
     "output_type": "stream",
     "text": [
      "00001011\n"
     ]
    }
   ],
   "source": [
    "x = 0b00101011 # 43\n",
    "y = 0b00001111 # 15\n",
    "print(\"{:08b}\".format( x & y))"
   ]
  },
  {
   "cell_type": "code",
   "execution_count": 53,
   "metadata": {},
   "outputs": [
    {
     "name": "stdout",
     "output_type": "stream",
     "text": [
      "00101111\n"
     ]
    }
   ],
   "source": [
    "print(\"{:08b}\".format( x | y))"
   ]
  },
  {
   "cell_type": "code",
   "execution_count": 54,
   "metadata": {},
   "outputs": [
    {
     "name": "stdout",
     "output_type": "stream",
     "text": [
      "47\n"
     ]
    }
   ],
   "source": [
    "print(\"{:d}\".format( x | y))"
   ]
  },
  {
   "cell_type": "code",
   "execution_count": 55,
   "metadata": {},
   "outputs": [],
   "source": [
    "x = 0b00101011 #43"
   ]
  },
  {
   "cell_type": "code",
   "execution_count": 56,
   "metadata": {},
   "outputs": [
    {
     "name": "stdout",
     "output_type": "stream",
     "text": [
      "00000101\n"
     ]
    }
   ],
   "source": [
    "print(\"{:08b}\".format(x>>3)) # 2**3만큼 나누는 결과"
   ]
  },
  {
   "cell_type": "code",
   "execution_count": 57,
   "metadata": {},
   "outputs": [
    {
     "name": "stdout",
     "output_type": "stream",
     "text": [
      "101011000\n"
     ]
    }
   ],
   "source": [
    "print(\"{:08b}\".format(x<<3)) # 2**3 만큼 곱하는 결과"
   ]
  },
  {
   "cell_type": "code",
   "execution_count": 58,
   "metadata": {},
   "outputs": [
    {
     "data": {
      "text/plain": [
       "True"
      ]
     },
     "execution_count": 58,
     "metadata": {},
     "output_type": "execute_result"
    }
   ],
   "source": [
    "isinstance(3.5, float)"
   ]
  },
  {
   "cell_type": "code",
   "execution_count": 59,
   "metadata": {},
   "outputs": [
    {
     "data": {
      "text/plain": [
       "False"
      ]
     },
     "execution_count": 59,
     "metadata": {},
     "output_type": "execute_result"
    }
   ],
   "source": [
    "isinstance(3, float)"
   ]
  },
  {
   "cell_type": "code",
   "execution_count": null,
   "metadata": {},
   "outputs": [],
   "source": []
  }
 ],
 "metadata": {
  "kernelspec": {
   "display_name": "Python 3",
   "language": "python",
   "name": "python3"
  },
  "language_info": {
   "codemirror_mode": {
    "name": "ipython",
    "version": 3
   },
   "file_extension": ".py",
   "mimetype": "text/x-python",
   "name": "python",
   "nbconvert_exporter": "python",
   "pygments_lexer": "ipython3",
   "version": "3.7.4"
  }
 },
 "nbformat": 4,
 "nbformat_minor": 2
}
