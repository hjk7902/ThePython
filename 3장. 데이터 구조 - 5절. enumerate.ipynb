{
 "cells": [
  {
   "cell_type": "code",
   "execution_count": 1,
   "metadata": {},
   "outputs": [],
   "source": [
    "fruits = ['watermelon', 'orange', 'mango', 'grape', 'banana', 'apple']"
   ]
  },
  {
   "cell_type": "code",
   "execution_count": 2,
   "metadata": {},
   "outputs": [
    {
     "name": "stdout",
     "output_type": "stream",
     "text": [
      "데이터는 watermelon입니다.\n",
      "데이터는 orange입니다.\n",
      "데이터는 mango입니다.\n",
      "데이터는 grape입니다.\n",
      "데이터는 banana입니다.\n",
      "데이터는 apple입니다.\n"
     ]
    }
   ],
   "source": [
    "for fruit in fruits:\n",
    "    print(\"데이터는 {}입니다.\".format(fruit))"
   ]
  },
  {
   "cell_type": "code",
   "execution_count": 4,
   "metadata": {},
   "outputs": [
    {
     "name": "stdout",
     "output_type": "stream",
     "text": [
      "1번째 데이터는 watermelon입니다.\n",
      "2번째 데이터는 orange입니다.\n",
      "3번째 데이터는 mango입니다.\n",
      "4번째 데이터는 grape입니다.\n",
      "5번째 데이터는 banana입니다.\n",
      "6번째 데이터는 apple입니다.\n"
     ]
    }
   ],
   "source": [
    "for i in range(len(fruits)):\n",
    "    print(\"{}번째 데이터는 {}입니다.\".format(i+1, fruits[i]))"
   ]
  },
  {
   "cell_type": "code",
   "execution_count": 7,
   "metadata": {},
   "outputs": [
    {
     "name": "stdout",
     "output_type": "stream",
     "text": [
      "1번째 데이터는 watermelon입니다.\n",
      "2번째 데이터는 orange입니다.\n",
      "3번째 데이터는 mango입니다.\n",
      "4번째 데이터는 grape입니다.\n",
      "5번째 데이터는 banana입니다.\n",
      "6번째 데이터는 apple입니다.\n"
     ]
    }
   ],
   "source": [
    "for index, value in enumerate(fruits):\n",
    "    print(\"{}번째 데이터는 {}입니다.\".format(index+1, value))"
   ]
  },
  {
   "cell_type": "code",
   "execution_count": null,
   "metadata": {},
   "outputs": [],
   "source": []
  }
 ],
 "metadata": {
  "kernelspec": {
   "display_name": "Python 3",
   "language": "python",
   "name": "python3"
  },
  "language_info": {
   "codemirror_mode": {
    "name": "ipython",
    "version": 3
   },
   "file_extension": ".py",
   "mimetype": "text/x-python",
   "name": "python",
   "nbconvert_exporter": "python",
   "pygments_lexer": "ipython3",
   "version": "3.7.4"
  }
 },
 "nbformat": 4,
 "nbformat_minor": 2
}
