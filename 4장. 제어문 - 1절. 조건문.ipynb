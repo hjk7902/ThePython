{
 "cells": [
  {
   "cell_type": "code",
   "execution_count": 5,
   "metadata": {},
   "outputs": [
    {
     "name": "stdout",
     "output_type": "stream",
     "text": [
      "점수를 입력하세요. 92\n",
      "grade A\n",
      "점수를 입력받아 등급을 출력했습니다.\n"
     ]
    }
   ],
   "source": [
    "score = int(input(\"점수를 입력하세요. \"))\n",
    "if score >= 90 :\n",
    "    print(\"grade A\")\n",
    "    \n",
    "print(\"점수를 입력받아 등급을 출력했습니다.\")"
   ]
  },
  {
   "cell_type": "code",
   "execution_count": 8,
   "metadata": {},
   "outputs": [
    {
     "name": "stdout",
     "output_type": "stream",
     "text": [
      "점수를 입력하세요.80\n",
      "pass\n",
      "축하합니다.\n",
      "점수 처리가 종료되었습니다.\n"
     ]
    }
   ],
   "source": [
    "score = int(input(\"점수를 입력하세요.\"))\n",
    "if score >= 70 :\n",
    "    print(\"pass\")\n",
    "    print(\"축하합니다.\")\n",
    "else :\n",
    "    print(\"Fail\")\n",
    "    print(\"아쉽습니다.\")\n",
    "\n",
    "print(\"점수 처리가 종료되었습니다.\")"
   ]
  },
  {
   "cell_type": "code",
   "execution_count": 13,
   "metadata": {},
   "outputs": [
    {
     "name": "stdout",
     "output_type": "stream",
     "text": [
      "점수를 입력하세요.89\n",
      "B\n",
      "성적 처리를 완료했습니다.\n"
     ]
    }
   ],
   "source": [
    "score = int(input(\"점수를 입력하세요.\"))\n",
    "if score >= 90:\n",
    "    print(\"A\")\n",
    "elif score >= 80:\n",
    "    print(\"B\")\n",
    "elif score >= 70:\n",
    "    print(\"C\")\n",
    "elif score >= 60:\n",
    "    print(\"D\")\n",
    "else :\n",
    "    print(\"F\")\n",
    "\n",
    "print(\"성적 처리를 완료했습니다.\")"
   ]
  },
  {
   "cell_type": "code",
   "execution_count": null,
   "metadata": {},
   "outputs": [],
   "source": []
  }
 ],
 "metadata": {
  "kernelspec": {
   "display_name": "Python 3",
   "language": "python",
   "name": "python3"
  },
  "language_info": {
   "codemirror_mode": {
    "name": "ipython",
    "version": 3
   },
   "file_extension": ".py",
   "mimetype": "text/x-python",
   "name": "python",
   "nbconvert_exporter": "python",
   "pygments_lexer": "ipython3",
   "version": "3.7.4"
  }
 },
 "nbformat": 4,
 "nbformat_minor": 2
}
