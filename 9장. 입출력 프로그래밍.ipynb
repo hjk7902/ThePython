{
 "cells": [
  {
   "cell_type": "code",
   "execution_count": 1,
   "metadata": {},
   "outputs": [],
   "source": [
    "f = open(\"sample.txt\", 'w')"
   ]
  },
  {
   "cell_type": "code",
   "execution_count": 2,
   "metadata": {},
   "outputs": [
    {
     "name": "stdout",
     "output_type": "stream",
     "text": [
      "True\n"
     ]
    }
   ],
   "source": [
    "print(f.writable())"
   ]
  },
  {
   "cell_type": "code",
   "execution_count": 3,
   "metadata": {},
   "outputs": [
    {
     "data": {
      "text/plain": [
       "12"
      ]
     },
     "execution_count": 3,
     "metadata": {},
     "output_type": "execute_result"
    }
   ],
   "source": [
    "f.write(\"Helle\\nWorld\\n\")"
   ]
  },
  {
   "cell_type": "code",
   "execution_count": 4,
   "metadata": {},
   "outputs": [],
   "source": [
    "f.close()"
   ]
  },
  {
   "cell_type": "code",
   "execution_count": 5,
   "metadata": {},
   "outputs": [],
   "source": [
    "f = open(\"sample.txt\", \"a\")"
   ]
  },
  {
   "cell_type": "code",
   "execution_count": 6,
   "metadata": {},
   "outputs": [],
   "source": [
    "print(\"프린트 함수로 쓸 수 있습니다.\", file=f)"
   ]
  },
  {
   "cell_type": "code",
   "execution_count": 7,
   "metadata": {},
   "outputs": [],
   "source": [
    "f.close()"
   ]
  },
  {
   "cell_type": "code",
   "execution_count": 8,
   "metadata": {},
   "outputs": [],
   "source": [
    "f = open(\"sample.txt\", \"r\")"
   ]
  },
  {
   "cell_type": "code",
   "execution_count": 9,
   "metadata": {},
   "outputs": [
    {
     "name": "stdout",
     "output_type": "stream",
     "text": [
      "Helle\n",
      "World\n",
      "프린트 함수로 쓸 수 있습니다.\n"
     ]
    }
   ],
   "source": [
    "lines = f.readlines()\n",
    "for line in lines:\n",
    "    print(line.strip())"
   ]
  },
  {
   "cell_type": "code",
   "execution_count": 10,
   "metadata": {},
   "outputs": [],
   "source": [
    "f.close()"
   ]
  },
  {
   "cell_type": "markdown",
   "metadata": {},
   "source": [
    "### 피클을 이용한 객체 직렬화"
   ]
  },
  {
   "cell_type": "code",
   "execution_count": 13,
   "metadata": {},
   "outputs": [
    {
     "name": "stdout",
     "output_type": "stream",
     "text": [
      "이름 : 홍길동, 나이 : 20, 이메일 : kildong@hong.com, 주소 : 서울시 강동구\n",
      "이름 : 홍길서, 나이 : 25, 이메일 : kilseo@hong.com, 주소 : 서울시 강서구\n"
     ]
    }
   ],
   "source": [
    "f = open(\"member.txt\", \"r\", encoding='utf-8-sig')\n",
    "lines = f.readlines()\n",
    "for line in lines:\n",
    "    data = line.strip().split(',')\n",
    "    name = data[0]\n",
    "    age = int(data[1])\n",
    "    email = data[2]\n",
    "    address = data[3]\n",
    "    print(\"이름 : {}, 나이 : {}, 이메일 : {}, 주소 : {}\"\n",
    "           .format(name, age, email, address))\n",
    "f.close()"
   ]
  },
  {
   "cell_type": "code",
   "execution_count": 14,
   "metadata": {},
   "outputs": [],
   "source": [
    "class Member:\n",
    "    def __init__(self, name, age, email, address):\n",
    "        self.name = name\n",
    "        self.age = age\n",
    "        self.email = email\n",
    "        self.address = address\n",
    "        \n",
    "    def __str__(self):\n",
    "        return \"Name:{}, Age:{}, Email:{}, Address:{}\"\\\n",
    "               .format(self.name, self.age, self.email, self.address)\n"
   ]
  },
  {
   "cell_type": "code",
   "execution_count": 15,
   "metadata": {},
   "outputs": [],
   "source": [
    "user1 = Member(\"홍길동\", 20, \"kildong@hong.com\", \"서울시 강동구\")\n",
    "user2 = Member(\"홍길서\", 25, \"kilseo@hong.com\", \"서울시 강서구\")\n",
    "user_list = [user1, user2]"
   ]
  },
  {
   "cell_type": "code",
   "execution_count": 16,
   "metadata": {},
   "outputs": [
    {
     "data": {
      "text/plain": [
       "[<__main__.Member at 0x14f57fb0ac8>, <__main__.Member at 0x14f57fb0a88>]"
      ]
     },
     "execution_count": 16,
     "metadata": {},
     "output_type": "execute_result"
    }
   ],
   "source": [
    "user_list"
   ]
  },
  {
   "cell_type": "code",
   "execution_count": 17,
   "metadata": {},
   "outputs": [],
   "source": [
    "f = open(\"member.data\", \"wb\")\n",
    "import pickle\n",
    "pickle.dump(user_list, f)\n",
    "f.close()"
   ]
  },
  {
   "cell_type": "code",
   "execution_count": 18,
   "metadata": {},
   "outputs": [
    {
     "data": {
      "text/plain": [
       "list"
      ]
     },
     "execution_count": 18,
     "metadata": {},
     "output_type": "execute_result"
    }
   ],
   "source": [
    "del user_list\n",
    "import pickle\n",
    "f = open(\"member.data\", \"rb\")\n",
    "user_list = pickle.load(f)\n",
    "type(user_list)"
   ]
  },
  {
   "cell_type": "code",
   "execution_count": 19,
   "metadata": {},
   "outputs": [
    {
     "name": "stdout",
     "output_type": "stream",
     "text": [
      "<class '__main__.Member'>\n",
      "Name:홍길동, Age:20, Email:kildong@hong.com, Address:서울시 강동구\n",
      "<class '__main__.Member'>\n",
      "Name:홍길서, Age:25, Email:kilseo@hong.com, Address:서울시 강서구\n"
     ]
    }
   ],
   "source": [
    "for user in user_list:\n",
    "    print(type(user))\n",
    "    print(user)\n",
    "f.close()"
   ]
  },
  {
   "cell_type": "markdown",
   "metadata": {},
   "source": [
    "### CSV파일 읽기/쓰기"
   ]
  },
  {
   "cell_type": "code",
   "execution_count": 20,
   "metadata": {},
   "outputs": [
    {
     "name": "stdout",
     "output_type": "stream",
     "text": [
      "['홍길동', '20', 'kildong@hong.com', '서울시 강동구']\n",
      "['홍길서', '25', 'kilseo@hong.com', '서울시 강서구']\n"
     ]
    }
   ],
   "source": [
    "import csv\n",
    "with open('member1.csv', 'r', encoding='utf-8-sig') as csvfile:\n",
    "    r = csv.reader(csvfile)\n",
    "    for row in r:\n",
    "        print(row)"
   ]
  },
  {
   "cell_type": "code",
   "execution_count": 21,
   "metadata": {},
   "outputs": [
    {
     "name": "stdout",
     "output_type": "stream",
     "text": [
      "['홍길동', 20.0, 'kildong@hong.com', '서울시 강동구']\n",
      "['홍길서', 25.0, 'kilseo@hong.com', '서울시 강서구']\n"
     ]
    }
   ],
   "source": [
    "import csv\n",
    "with open('member1.csv', 'r', encoding='utf-8-sig') as csvfile:\n",
    "    r = csv.reader(csvfile, quotechar='\"', quoting=csv.QUOTE_NONNUMERIC)\n",
    "    for row in r:\n",
    "        print(row)"
   ]
  },
  {
   "cell_type": "code",
   "execution_count": 22,
   "metadata": {},
   "outputs": [],
   "source": [
    "user_list = [['홍길동', 20.0, 'kildong@hong.com', '서울시 강동구'],\n",
    "             ['홍길서', 25.0, 'kilseo@hong.com', '서울시 강서구']]"
   ]
  },
  {
   "cell_type": "code",
   "execution_count": 23,
   "metadata": {},
   "outputs": [],
   "source": [
    "import csv\n",
    "with open('member2.csv', 'w', newline='', encoding='UTF-8-SIG') as csvfile:\n",
    "    w = csv.writer(csvfile)\n",
    "    w.writerows(user_list)"
   ]
  },
  {
   "cell_type": "code",
   "execution_count": 24,
   "metadata": {},
   "outputs": [],
   "source": [
    "import csv\n",
    "with open('member2.csv', 'w', newline='', encoding='UTF-8-SIG') as csvfile:\n",
    "    w = csv.writer(csvfile, quoting=csv.QUOTE_NONNUMERIC)\n",
    "    w.writerows(user_list)\n"
   ]
  },
  {
   "cell_type": "code",
   "execution_count": 25,
   "metadata": {},
   "outputs": [
    {
     "name": "stdout",
     "output_type": "stream",
     "text": [
      "홍길동 20 kildong@hong.com 서울시 강동구\n",
      "홍길서 25 kilseo@hong.com 서울시 강서구\n"
     ]
    }
   ],
   "source": [
    "import csv\n",
    "with open('member3.csv', encoding='utf-8-sig') as csvfile:\n",
    "    dict_reader = csv.DictReader(csvfile)\n",
    "    for row in dict_reader:\n",
    "        print(row[\"Name\"], row[\"Age\"], row[\"Email\"], row[\"Address\"])\n"
   ]
  },
  {
   "cell_type": "code",
   "execution_count": 26,
   "metadata": {},
   "outputs": [
    {
     "name": "stdout",
     "output_type": "stream",
     "text": [
      "OrderedDict([('Name', '홍길동'), ('Age', '20'), ('Email', 'kildong@hong.com'), ('Address', '서울시 강동구')])\n",
      "OrderedDict([('Name', '홍길서'), ('Age', '25'), ('Email', 'kilseo@hong.com'), ('Address', '서울시 강서구')])\n"
     ]
    }
   ],
   "source": [
    "import csv\n",
    "with open('member3.csv', encoding='utf-8-sig') as csvfile:\n",
    "    dict_reader = csv.DictReader(csvfile)\n",
    "    for row in dict_reader:\n",
    "        print(row)\n"
   ]
  },
  {
   "cell_type": "code",
   "execution_count": 27,
   "metadata": {},
   "outputs": [
    {
     "name": "stdout",
     "output_type": "stream",
     "text": [
      "홍길동 20.0 kildong@hong.com 서울시 강동구\n",
      "홍길서 25.0 kilseo@hong.com 서울시 강서구\n"
     ]
    }
   ],
   "source": [
    "import csv\n",
    "with open('member2.csv', encoding='UTF-8-SIG') as csvfile:\n",
    "    dict_reader = csv.DictReader(csvfile, \n",
    "                  fieldnames=[\"Name\", \"Age\", \"Email\", \"Address\"])\n",
    "    for row in dict_reader:\n",
    "        print(row[\"Name\"], row[\"Age\"], row[\"Email\"], row[\"Address\"])"
   ]
  },
  {
   "cell_type": "code",
   "execution_count": 28,
   "metadata": {},
   "outputs": [
    {
     "name": "stdout",
     "output_type": "stream",
     "text": [
      "홍길동 20.0 kildong@hong.com ['서울시 강동구']\n",
      "홍길서 25.0 kilseo@hong.com ['서울시 강서구']\n"
     ]
    }
   ],
   "source": [
    "import csv\n",
    "with open('member2.csv', encoding='utf-8-sig') as csvfile:\n",
    "    dict_reader = csv.DictReader(csvfile, \n",
    "                  fieldnames=[\"Name\", \"Age\", \"Email\"], restkey=\"Etc\")\n",
    "    for row in dict_reader:\n",
    "        print(row[\"Name\"], row[\"Age\"], row[\"Email\"], row[\"Etc\"])"
   ]
  },
  {
   "cell_type": "code",
   "execution_count": 29,
   "metadata": {},
   "outputs": [],
   "source": [
    "user1 = {\"Name\":\"홍길동\", \"Age\":20, \"Email\":\"kildong@hong.com\", \n",
    "         \"Address\":\"서울시 강동구\"}\n",
    "user2 = {\"Name\":\"홍길서\", \"Age\":25, \"Email\":\"kilseo@hong.com\", \n",
    "         \"Address\":\"서울시 강서구\"}"
   ]
  },
  {
   "cell_type": "code",
   "execution_count": 30,
   "metadata": {},
   "outputs": [],
   "source": [
    "import csv\n",
    "with open('member4.csv', 'w', newline='', encoding='utf-8') as csvfile:\n",
    "    fieldnames = ['Name', 'Age', 'Email', 'Address']\n",
    "    dict_writer = csv.DictWriter(csvfile, fieldnames=fieldnames)\n",
    "    dict_writer.writeheader()\n",
    "    dict_writer.writerow(user1)\n",
    "    dict_writer.writerow(user2)"
   ]
  },
  {
   "cell_type": "code",
   "execution_count": 31,
   "metadata": {},
   "outputs": [],
   "source": [
    "user_list = [ {\"Name\":\"홍길동\", \"Age\":20, \"Email\":\"kildong@hong.com\", \n",
    "               \"Address\":\"서울시 강동구\"},\n",
    "              {\"Name\":\"홍길서\", \"Age\":25, \"Email\":\"kilseo@hong.com\", \n",
    "               \"Address\":\"서울시 강서구\"} ]"
   ]
  },
  {
   "cell_type": "code",
   "execution_count": 32,
   "metadata": {},
   "outputs": [],
   "source": [
    "import csv\n",
    "with open('member5.csv', 'w', newline='', encoding='utf-8-sig') as csvfile:\n",
    "    fieldnames = ['Name', 'Age', 'Email', 'Address']\n",
    "    dict_writer = csv.DictWriter(csvfile, fieldnames=fieldnames)\n",
    "    dict_writer.writeheader()\n",
    "    dict_writer.writerows(user_list)"
   ]
  },
  {
   "cell_type": "markdown",
   "metadata": {},
   "source": [
    "### DictReader, DictWriter"
   ]
  },
  {
   "cell_type": "code",
   "execution_count": 33,
   "metadata": {},
   "outputs": [
    {
     "name": "stdout",
     "output_type": "stream",
     "text": [
      "홍길동 20 kildong@hong.com 서울시 강동구\n",
      "홍길서 25 kilseo@hong.com 서울시 강서구\n"
     ]
    }
   ],
   "source": [
    "import csv\n",
    "with open('member3.csv', encoding='utf-8-sig') as csvfile:\n",
    "    dict_reader = csv.DictReader(csvfile)\n",
    "    for row in dict_reader:\n",
    "        print(row[\"Name\"], row[\"Age\"], row[\"Email\"], row[\"Address\"])"
   ]
  },
  {
   "cell_type": "code",
   "execution_count": 34,
   "metadata": {},
   "outputs": [
    {
     "name": "stdout",
     "output_type": "stream",
     "text": [
      "OrderedDict([('Name', '홍길동'), ('Age', '20'), ('Email', 'kildong@hong.com'), ('Address', '서울시 강동구')])\n",
      "OrderedDict([('Name', '홍길서'), ('Age', '25'), ('Email', 'kilseo@hong.com'), ('Address', '서울시 강서구')])\n"
     ]
    }
   ],
   "source": [
    "import csv\n",
    "with open('member3.csv', encoding='utf-8-sig') as csvfile:\n",
    "    dict_reader = csv.DictReader(csvfile)\n",
    "    for row in dict_reader:\n",
    "        print(row)"
   ]
  },
  {
   "cell_type": "code",
   "execution_count": 35,
   "metadata": {},
   "outputs": [
    {
     "name": "stdout",
     "output_type": "stream",
     "text": [
      "홍길동 20 kildong@hong.com 서울시 강동구\n",
      "홍길서 25 kilseo@hong.com 서울시 강서구\n"
     ]
    }
   ],
   "source": [
    "import csv\n",
    "with open('member1.csv', encoding='utf-8-sig') as csvfile:\n",
    "    dict_reader = csv.DictReader(csvfile, \n",
    "                  fieldnames=[\"Name\", \"Age\", \"Email\", \"Address\"])\n",
    "    for row in dict_reader:\n",
    "        print(row[\"Name\"], row[\"Age\"], row[\"Email\"], row[\"Address\"])"
   ]
  },
  {
   "cell_type": "code",
   "execution_count": 36,
   "metadata": {},
   "outputs": [
    {
     "name": "stdout",
     "output_type": "stream",
     "text": [
      "홍길동 20 kildong@hong.com ['서울시 강동구']\n",
      "홍길서 25 kilseo@hong.com ['서울시 강서구']\n"
     ]
    }
   ],
   "source": [
    "import csv\n",
    "with open('member1.csv', encoding='utf-8-sig') as csvfile:\n",
    "    dict_reader = csv.DictReader(csvfile, \n",
    "                  fieldnames=[\"Name\", \"Age\", \"Email\"], restkey=\"Etc\")\n",
    "    for row in dict_reader:\n",
    "        print(row[\"Name\"], row[\"Age\"], row[\"Email\"], row[\"Etc\"])"
   ]
  },
  {
   "cell_type": "code",
   "execution_count": 37,
   "metadata": {},
   "outputs": [
    {
     "name": "stdout",
     "output_type": "stream",
     "text": [
      "OrderedDict([('Name', '홍길동'), ('Age', '20'), ('Email', 'kildong@hong.com'), ('Address', '서울시 강동구'), ('Etc', '동해번쩍')])\n",
      "OrderedDict([('Name', '홍길서'), ('Age', '25'), ('Email', 'kilseo@hong.com'), ('Address', '서울시 강서구'), ('Etc', '없음')])\n"
     ]
    }
   ],
   "source": [
    "import csv\n",
    "with open('member3-2.csv', encoding='utf-8-sig') as csvfile:\n",
    "    dict_reader = csv.DictReader(csvfile, restval=\"없음\")\n",
    "    for row in dict_reader:\n",
    "        print(row)"
   ]
  },
  {
   "cell_type": "code",
   "execution_count": 38,
   "metadata": {},
   "outputs": [],
   "source": [
    "user1 = {\"Name\":\"홍길동\", \"Age\":20, \"Email\":\"kildong@hong.com\", \n",
    "         \"Address\":\"서울시 강동구\"}\n",
    "user2 = {\"Name\":\"홍길서\", \"Age\":25, \"Email\":\"kilseo@hong.com\", \n",
    "         \"Address\":\"서울시 강서구\"}"
   ]
  },
  {
   "cell_type": "code",
   "execution_count": 39,
   "metadata": {},
   "outputs": [],
   "source": [
    "import csv\n",
    "with open('member4.csv', 'w', newline='', encoding='utf-8-sig') as csvfile:\n",
    "    fieldnames = ['Name', 'Age', 'Email', 'Address']\n",
    "    dict_writer = csv.DictWriter(csvfile, fieldnames=fieldnames)\n",
    "    dict_writer.writeheader()\n",
    "    dict_writer.writerow(user1)\n",
    "    dict_writer.writerow(user2)"
   ]
  },
  {
   "cell_type": "code",
   "execution_count": 40,
   "metadata": {},
   "outputs": [],
   "source": [
    "import csv\n",
    "with open('member5.csv', 'w', newline='', encoding='utf-8-sig') as csvfile:\n",
    "    fieldnames = ['Name', 'Age', 'Email', 'Address']\n",
    "    dict_writer = csv.DictWriter(csvfile, fieldnames=fieldnames)\n",
    "    dict_writer.writeheader()\n",
    "    dict_writer.writerows(user_list)"
   ]
  },
  {
   "cell_type": "code",
   "execution_count": 41,
   "metadata": {},
   "outputs": [
    {
     "ename": "ValueError",
     "evalue": "dict contains fields not in fieldnames: 'Address'",
     "output_type": "error",
     "traceback": [
      "\u001b[1;31m---------------------------------------------------------------------------\u001b[0m",
      "\u001b[1;31mValueError\u001b[0m                                Traceback (most recent call last)",
      "\u001b[1;32m<ipython-input-41-89199c38ae54>\u001b[0m in \u001b[0;36m<module>\u001b[1;34m\u001b[0m\n\u001b[0;32m      5\u001b[0m \u001b[1;33m\u001b[0m\u001b[0m\n\u001b[0;32m      6\u001b[0m     \u001b[0mdict_writer\u001b[0m\u001b[1;33m.\u001b[0m\u001b[0mwriteheader\u001b[0m\u001b[1;33m(\u001b[0m\u001b[1;33m)\u001b[0m\u001b[1;33m\u001b[0m\u001b[1;33m\u001b[0m\u001b[0m\n\u001b[1;32m----> 7\u001b[1;33m     \u001b[0mdict_writer\u001b[0m\u001b[1;33m.\u001b[0m\u001b[0mwriterows\u001b[0m\u001b[1;33m(\u001b[0m\u001b[0muser_list\u001b[0m\u001b[1;33m)\u001b[0m\u001b[1;33m\u001b[0m\u001b[1;33m\u001b[0m\u001b[0m\n\u001b[0m",
      "\u001b[1;32m~\\anaconda3\\lib\\csv.py\u001b[0m in \u001b[0;36mwriterows\u001b[1;34m(self, rowdicts)\u001b[0m\n\u001b[0;32m    156\u001b[0m \u001b[1;33m\u001b[0m\u001b[0m\n\u001b[0;32m    157\u001b[0m     \u001b[1;32mdef\u001b[0m \u001b[0mwriterows\u001b[0m\u001b[1;33m(\u001b[0m\u001b[0mself\u001b[0m\u001b[1;33m,\u001b[0m \u001b[0mrowdicts\u001b[0m\u001b[1;33m)\u001b[0m\u001b[1;33m:\u001b[0m\u001b[1;33m\u001b[0m\u001b[1;33m\u001b[0m\u001b[0m\n\u001b[1;32m--> 158\u001b[1;33m         \u001b[1;32mreturn\u001b[0m \u001b[0mself\u001b[0m\u001b[1;33m.\u001b[0m\u001b[0mwriter\u001b[0m\u001b[1;33m.\u001b[0m\u001b[0mwriterows\u001b[0m\u001b[1;33m(\u001b[0m\u001b[0mmap\u001b[0m\u001b[1;33m(\u001b[0m\u001b[0mself\u001b[0m\u001b[1;33m.\u001b[0m\u001b[0m_dict_to_list\u001b[0m\u001b[1;33m,\u001b[0m \u001b[0mrowdicts\u001b[0m\u001b[1;33m)\u001b[0m\u001b[1;33m)\u001b[0m\u001b[1;33m\u001b[0m\u001b[1;33m\u001b[0m\u001b[0m\n\u001b[0m\u001b[0;32m    159\u001b[0m \u001b[1;33m\u001b[0m\u001b[0m\n\u001b[0;32m    160\u001b[0m \u001b[1;31m# Guard Sniffer's type checking against builds that exclude complex()\u001b[0m\u001b[1;33m\u001b[0m\u001b[1;33m\u001b[0m\u001b[1;33m\u001b[0m\u001b[0m\n",
      "\u001b[1;32m~\\anaconda3\\lib\\csv.py\u001b[0m in \u001b[0;36m_dict_to_list\u001b[1;34m(self, rowdict)\u001b[0m\n\u001b[0;32m    149\u001b[0m             \u001b[1;32mif\u001b[0m \u001b[0mwrong_fields\u001b[0m\u001b[1;33m:\u001b[0m\u001b[1;33m\u001b[0m\u001b[1;33m\u001b[0m\u001b[0m\n\u001b[0;32m    150\u001b[0m                 raise ValueError(\"dict contains fields not in fieldnames: \"\n\u001b[1;32m--> 151\u001b[1;33m                                  + \", \".join([repr(x) for x in wrong_fields]))\n\u001b[0m\u001b[0;32m    152\u001b[0m         \u001b[1;32mreturn\u001b[0m \u001b[1;33m(\u001b[0m\u001b[0mrowdict\u001b[0m\u001b[1;33m.\u001b[0m\u001b[0mget\u001b[0m\u001b[1;33m(\u001b[0m\u001b[0mkey\u001b[0m\u001b[1;33m,\u001b[0m \u001b[0mself\u001b[0m\u001b[1;33m.\u001b[0m\u001b[0mrestval\u001b[0m\u001b[1;33m)\u001b[0m \u001b[1;32mfor\u001b[0m \u001b[0mkey\u001b[0m \u001b[1;32min\u001b[0m \u001b[0mself\u001b[0m\u001b[1;33m.\u001b[0m\u001b[0mfieldnames\u001b[0m\u001b[1;33m)\u001b[0m\u001b[1;33m\u001b[0m\u001b[1;33m\u001b[0m\u001b[0m\n\u001b[0;32m    153\u001b[0m \u001b[1;33m\u001b[0m\u001b[0m\n",
      "\u001b[1;31mValueError\u001b[0m: dict contains fields not in fieldnames: 'Address'"
     ]
    }
   ],
   "source": [
    "import csv\n",
    "with open('member5.csv', 'w', newline='', encoding='utf-8-sig') as csvfile:\n",
    "    fieldnames = ['Name', 'Age', 'Email']\n",
    "    dict_writer = csv.DictWriter(csvfile, fieldnames=fieldnames)\n",
    "\n",
    "    dict_writer.writeheader()\n",
    "    dict_writer.writerows(user_list)"
   ]
  },
  {
   "cell_type": "code",
   "execution_count": 42,
   "metadata": {},
   "outputs": [],
   "source": [
    "import csv\n",
    "with open('member5-2.csv', 'w', newline='', encoding='utf-8-sig') as csvfile:\n",
    "    fieldnames = ['Name', 'Age', 'Email']\n",
    "    dict_writer = csv.DictWriter(csvfile, fieldnames=fieldnames, \n",
    "                                 extrasaction='ignore')\n",
    "\n",
    "    dict_writer.writeheader()\n",
    "    dict_writer.writerows(user_list)"
   ]
  },
  {
   "cell_type": "markdown",
   "metadata": {},
   "source": [
    "### JSON 데이터 저장"
   ]
  },
  {
   "cell_type": "code",
   "execution_count": 43,
   "metadata": {},
   "outputs": [],
   "source": [
    "data = ['foo', {'bar': ('baz', None, 1.0, 2)}]"
   ]
  },
  {
   "cell_type": "code",
   "execution_count": 44,
   "metadata": {},
   "outputs": [],
   "source": [
    "import json\n",
    "with open('sample.json', 'w') as jsonfile:\n",
    "    json.dump(data, jsonfile)"
   ]
  },
  {
   "cell_type": "code",
   "execution_count": 45,
   "metadata": {},
   "outputs": [],
   "source": [
    "import json\n",
    "with open('sample.json', 'w') as jsonfile:\n",
    "    json.dump(data, jsonfile, indent=True)"
   ]
  },
  {
   "cell_type": "code",
   "execution_count": 46,
   "metadata": {},
   "outputs": [],
   "source": [
    "import json\n",
    "with open('sample.json', 'w') as jsonfile:\n",
    "    json.dump(data, jsonfile, indent='\\t')"
   ]
  },
  {
   "cell_type": "code",
   "execution_count": 47,
   "metadata": {},
   "outputs": [],
   "source": [
    "class Member:\n",
    "    def __init__(self, name, age, email, address):\n",
    "        self.name = name\n",
    "        self.age = age\n",
    "        self.email = email\n",
    "        self.address = address\n",
    "    \n",
    "    def as_dict(self):\n",
    "        return {\"name\":self.name, \"age\":self.age, \"email\":self.email,\n",
    "                \"address\":self.address}\n"
   ]
  },
  {
   "cell_type": "code",
   "execution_count": 48,
   "metadata": {},
   "outputs": [],
   "source": [
    "user1 = Member(\"홍길동\", 20, \"kildong@hong.com\", \"서울시 강동구\")\n",
    "user2 = Member(\"홍길서\", 25, \"kilseo@hong.com\", \"서울시 강서구\")\n",
    "user_list = [user1, user2]"
   ]
  },
  {
   "cell_type": "code",
   "execution_count": 49,
   "metadata": {},
   "outputs": [],
   "source": [
    "import json\n",
    "with open('member.json', 'w', encoding=\"utf-8-sig\") as jsonfile:\n",
    "    json.dump(user_list, jsonfile, ensure_ascii=False, \n",
    "              indent=\"\\t\", default=Member.as_dict)"
   ]
  },
  {
   "cell_type": "code",
   "execution_count": 50,
   "metadata": {},
   "outputs": [
    {
     "name": "stdout",
     "output_type": "stream",
     "text": [
      "[{'name': '홍길동', 'age': 20, 'email': 'kildong@hong.com', 'address': '서울시 강동구'}, {'name': '홍길서', 'age': 25, 'email': 'kilseo@hong.com', 'address': '서울시 강서구'}]\n"
     ]
    }
   ],
   "source": [
    "import json\n",
    "with open('member.json', encoding=\"utf-8-sig\") as jsonfile:\n",
    "    user_list = json.load(jsonfile)\n",
    "    print(user_list)    "
   ]
  },
  {
   "cell_type": "code",
   "execution_count": 51,
   "metadata": {},
   "outputs": [],
   "source": [
    "class Member:\n",
    "    def __init__(self, name, age, email, address):\n",
    "        self.name = name\n",
    "        self.age = age\n",
    "        self.email = email\n",
    "        self.address = address\n",
    "        \n",
    "    def __str__(self):\n",
    "        return \"Name:{}, Age:{}, Email:{}, Address:{}\"\\\n",
    "               .format(self.name, self.age, self.email, self.address)\n",
    "    \n",
    "    def as_dict(self):\n",
    "        return {\"name\":self.name, \"age\":self.age, \"email\":self.email, \n",
    "                \"address\":self.address}"
   ]
  },
  {
   "cell_type": "code",
   "execution_count": 52,
   "metadata": {},
   "outputs": [],
   "source": [
    "def as_member(dct):\n",
    "    return Member(dct['name'], dct['age'], dct['email'], dct['address'])"
   ]
  },
  {
   "cell_type": "code",
   "execution_count": 53,
   "metadata": {},
   "outputs": [
    {
     "name": "stdout",
     "output_type": "stream",
     "text": [
      "Name:홍길동, Age:20, Email:kildong@hong.com, Address:서울시 강동구\n",
      "Name:홍길서, Age:25, Email:kilseo@hong.com, Address:서울시 강서구\n"
     ]
    }
   ],
   "source": [
    "import json\n",
    "with open('member.json', encoding=\"utf-8-sig\") as jsonfile:\n",
    "    user_list = json.load(jsonfile, object_hook=as_member)\n",
    "    for user in user_list:\n",
    "        print(user)"
   ]
  },
  {
   "cell_type": "markdown",
   "metadata": {},
   "source": [
    "#### 디코더와 인코더"
   ]
  },
  {
   "cell_type": "markdown",
   "metadata": {},
   "source": [
    "##### 인코더"
   ]
  },
  {
   "cell_type": "code",
   "execution_count": 54,
   "metadata": {},
   "outputs": [],
   "source": [
    "import json\n",
    "class MemberEncoder(json.JSONEncoder):\n",
    "    def default(self, obj):\n",
    "        if isinstance(obj, Member):\n",
    "            return [obj.name, obj.age, obj.email, obj.address]\n",
    "        return json.JSONEncoder.default(self, obj)"
   ]
  },
  {
   "cell_type": "code",
   "execution_count": 55,
   "metadata": {},
   "outputs": [],
   "source": [
    "with open('member2.json', 'w', encoding=\"utf-8-sig\") as jsonfile:\n",
    "    json.dump(user_list, jsonfile, indent=\"\\t\", ensure_ascii=False, \n",
    "              cls=MemberEncoder)"
   ]
  },
  {
   "cell_type": "markdown",
   "metadata": {},
   "source": [
    "##### 디코더"
   ]
  },
  {
   "cell_type": "code",
   "execution_count": 56,
   "metadata": {},
   "outputs": [],
   "source": [
    "import json\n",
    "class MemberDecoder(json.JSONDecoder):\n",
    "    def __init__(self, *args, **kwargs):\n",
    "        json.JSONDecoder.__init__(self, object_hook=self.object_hook, \n",
    "                                  *args, **kwargs)\n",
    "        \n",
    "    def object_hook(self, obj):\n",
    "        if('name' in obj):\n",
    "            return Member(obj['name'], obj['age'], obj['email'], obj['address'])\n",
    "        return json.JSONDecoder.object_hook(self, obj)"
   ]
  },
  {
   "cell_type": "code",
   "execution_count": 57,
   "metadata": {},
   "outputs": [
    {
     "name": "stdout",
     "output_type": "stream",
     "text": [
      "Name:홍길동, Age:20, Email:kildong@hong.com, Address:서울시 강동구\n",
      "Name:홍길서, Age:25, Email:kilseo@hong.com, Address:서울시 강서구\n"
     ]
    }
   ],
   "source": [
    "with open('member.json', encoding=\"utf-8-sig\") as jsonfile:\n",
    "    user_list = json.load(jsonfile, cls=MemberDecoder)\n",
    "    for user in user_list:\n",
    "        print(user)"
   ]
  },
  {
   "cell_type": "markdown",
   "metadata": {},
   "source": [
    "### HDF5 파일 읽기/쓰기"
   ]
  },
  {
   "cell_type": "code",
   "execution_count": 58,
   "metadata": {},
   "outputs": [
    {
     "name": "stdout",
     "output_type": "stream",
     "text": [
      "{0: 5.1, 1: 4.9, 2: 4.7, 3: 4.6, 4: 5.0, 5: 5.4, 6: 4.6, 7: 5.0, 8: 4.4, 9: 4.9, 10: 5.4, 11: 4.8, 12: 4.8, 13: 4.3, 14: 5.8, 15: 5.7, 16: 5.4, 17: 5.1, 18: 5.7, 19: 5.1, 20: 5.4, 21: 5.1, 22: 4.6, 23: 5.1, 24: 4.8, 25: 5.0, 26: 5.0, 27: 5.2, 28: 5.2, 29: 4.7, 30: 4.8, 31: 5.4, 32: 5.2, 33: 5.5, 34: 4.9, 35: 5.0, 36: 5.5, 37: 4.9, 38: 4.4, 39: 5.1, 40: 5.0, 41: 4.5, 42: 4.4, 43: 5.0, 44: 5.1, 45: 4.8, 46: 5.1, 47: 4.6, 48: 5.3, 49: 5.0, 50: 7.0, 51: 6.4, 52: 6.9, 53: 5.5, 54: 6.5, 55: 5.7, 56: 6.3, 57: 4.9, 58: 6.6, 59: 5.2, 60: 5.0, 61: 5.9, 62: 6.0, 63: 6.1, 64: 5.6, 65: 6.7, 66: 5.6, 67: 5.8, 68: 6.2, 69: 5.6, 70: 5.9, 71: 6.1, 72: 6.3, 73: 6.1, 74: 6.4, 75: 6.6, 76: 6.8, 77: 6.7, 78: 6.0, 79: 5.7, 80: 5.5, 81: 5.5, 82: 5.8, 83: 6.0, 84: 5.4, 85: 6.0, 86: 6.7, 87: 6.3, 88: 5.6, 89: 5.5, 90: 5.5, 91: 6.1, 92: 5.8, 93: 5.0, 94: 5.6, 95: 5.7, 96: 5.7, 97: 6.2, 98: 5.1, 99: 5.7, 100: 6.3, 101: 5.8, 102: 7.1, 103: 6.3, 104: 6.5, 105: 7.6, 106: 4.9, 107: 7.3, 108: 6.7, 109: 7.2, 110: 6.5, 111: 6.4, 112: 6.8, 113: 5.7, 114: 5.8, 115: 6.4, 116: 6.5, 117: 7.7, 118: 7.7, 119: 6.0, 120: 6.9, 121: 5.6, 122: 7.7, 123: 6.3, 124: 6.7, 125: 7.2, 126: 6.2, 127: 6.1, 128: 6.4, 129: 7.2, 130: 7.4, 131: 7.9, 132: 6.4, 133: 6.3, 134: 6.1, 135: 7.7, 136: 6.3, 137: 6.4, 138: 6.0, 139: 6.9, 140: 6.7, 141: 6.9, 142: 5.8, 143: 6.8, 144: 6.7, 145: 6.7, 146: 6.3, 147: 6.5, 148: 6.2, 149: 5.9}\n"
     ]
    }
   ],
   "source": [
    "import seaborn as sns\n",
    "iris_df = sns.load_dataset(\"iris\")\n",
    "iris_dic = iris_df.to_dict()\n",
    "print(iris_dic[\"sepal_length\"])"
   ]
  },
  {
   "cell_type": "code",
   "execution_count": 59,
   "metadata": {},
   "outputs": [],
   "source": [
    "import h5py\n",
    "with h5py.File(\"iris.hdf5\", 'w') as f:\n",
    "    for group, value in iris_dic.items():\n",
    "        grp = f.create_group(group)\n",
    "        for k, data in value.items():\n",
    "            grp.create_dataset(str(k), data=data)"
   ]
  },
  {
   "cell_type": "code",
   "execution_count": 60,
   "metadata": {},
   "outputs": [],
   "source": [
    "import h5py\n",
    "iris_dic2 = {}\n",
    "with h5py.File(\"iris.hdf5\", 'r') as f:\n",
    "    for group, v in f.items():\n",
    "        cols = {}\n",
    "        for k, data in v.items():\n",
    "            cols.update({int(k):data[()]})\n",
    "        iris_dic2.update({group: cols})"
   ]
  },
  {
   "cell_type": "code",
   "execution_count": null,
   "metadata": {},
   "outputs": [],
   "source": [
    "import collections\n",
    "od = collections.OrderedDict(sorted(iris_dic2[\"sepal_length\"].items()))\n",
    "print(dict(od))"
   ]
  },
  {
   "cell_type": "markdown",
   "metadata": {},
   "source": [
    "####  판다스 패키지 사용"
   ]
  },
  {
   "cell_type": "code",
   "execution_count": 61,
   "metadata": {},
   "outputs": [],
   "source": [
    "import pandas as pd\n",
    "iris_df = pd.DataFrame(iris_dic)\n",
    "iris_df.to_hdf(\"iris2.hdf5\", key=\"iris\")"
   ]
  },
  {
   "cell_type": "code",
   "execution_count": 62,
   "metadata": {},
   "outputs": [
    {
     "data": {
      "text/html": [
       "<div>\n",
       "<style scoped>\n",
       "    .dataframe tbody tr th:only-of-type {\n",
       "        vertical-align: middle;\n",
       "    }\n",
       "\n",
       "    .dataframe tbody tr th {\n",
       "        vertical-align: top;\n",
       "    }\n",
       "\n",
       "    .dataframe thead th {\n",
       "        text-align: right;\n",
       "    }\n",
       "</style>\n",
       "<table border=\"1\" class=\"dataframe\">\n",
       "  <thead>\n",
       "    <tr style=\"text-align: right;\">\n",
       "      <th></th>\n",
       "      <th>sepal_length</th>\n",
       "      <th>sepal_width</th>\n",
       "      <th>petal_length</th>\n",
       "      <th>petal_width</th>\n",
       "      <th>species</th>\n",
       "    </tr>\n",
       "  </thead>\n",
       "  <tbody>\n",
       "    <tr>\n",
       "      <th>0</th>\n",
       "      <td>5.1</td>\n",
       "      <td>3.5</td>\n",
       "      <td>1.4</td>\n",
       "      <td>0.2</td>\n",
       "      <td>setosa</td>\n",
       "    </tr>\n",
       "    <tr>\n",
       "      <th>1</th>\n",
       "      <td>4.9</td>\n",
       "      <td>3.0</td>\n",
       "      <td>1.4</td>\n",
       "      <td>0.2</td>\n",
       "      <td>setosa</td>\n",
       "    </tr>\n",
       "    <tr>\n",
       "      <th>2</th>\n",
       "      <td>4.7</td>\n",
       "      <td>3.2</td>\n",
       "      <td>1.3</td>\n",
       "      <td>0.2</td>\n",
       "      <td>setosa</td>\n",
       "    </tr>\n",
       "    <tr>\n",
       "      <th>3</th>\n",
       "      <td>4.6</td>\n",
       "      <td>3.1</td>\n",
       "      <td>1.5</td>\n",
       "      <td>0.2</td>\n",
       "      <td>setosa</td>\n",
       "    </tr>\n",
       "    <tr>\n",
       "      <th>4</th>\n",
       "      <td>5.0</td>\n",
       "      <td>3.6</td>\n",
       "      <td>1.4</td>\n",
       "      <td>0.2</td>\n",
       "      <td>setosa</td>\n",
       "    </tr>\n",
       "  </tbody>\n",
       "</table>\n",
       "</div>"
      ],
      "text/plain": [
       "   sepal_length  sepal_width  petal_length  petal_width species\n",
       "0           5.1          3.5           1.4          0.2  setosa\n",
       "1           4.9          3.0           1.4          0.2  setosa\n",
       "2           4.7          3.2           1.3          0.2  setosa\n",
       "3           4.6          3.1           1.5          0.2  setosa\n",
       "4           5.0          3.6           1.4          0.2  setosa"
      ]
     },
     "execution_count": 62,
     "metadata": {},
     "output_type": "execute_result"
    }
   ],
   "source": [
    "iris_df2 = pd.read_hdf(\"iris2.hdf5\", key=\"iris\")\n",
    "iris_df2.head()"
   ]
  },
  {
   "cell_type": "code",
   "execution_count": null,
   "metadata": {},
   "outputs": [],
   "source": []
  }
 ],
 "metadata": {
  "kernelspec": {
   "display_name": "Python 3",
   "language": "python",
   "name": "python3"
  },
  "language_info": {
   "codemirror_mode": {
    "name": "ipython",
    "version": 3
   },
   "file_extension": ".py",
   "mimetype": "text/x-python",
   "name": "python",
   "nbconvert_exporter": "python",
   "pygments_lexer": "ipython3",
   "version": "3.7.6"
  },
  "toc": {
   "base_numbering": 1,
   "nav_menu": {},
   "number_sections": true,
   "sideBar": true,
   "skip_h1_title": false,
   "title_cell": "Table of Contents",
   "title_sidebar": "Contents",
   "toc_cell": false,
   "toc_position": {},
   "toc_section_display": true,
   "toc_window_display": false
  },
  "varInspector": {
   "cols": {
    "lenName": 16,
    "lenType": 16,
    "lenVar": 40
   },
   "kernels_config": {
    "python": {
     "delete_cmd_postfix": "",
     "delete_cmd_prefix": "del ",
     "library": "var_list.py",
     "varRefreshCmd": "print(var_dic_list())"
    },
    "r": {
     "delete_cmd_postfix": ") ",
     "delete_cmd_prefix": "rm(",
     "library": "var_list.r",
     "varRefreshCmd": "cat(var_dic_list()) "
    }
   },
   "types_to_exclude": [
    "module",
    "function",
    "builtin_function_or_method",
    "instance",
    "_Feature"
   ],
   "window_display": false
  }
 },
 "nbformat": 4,
 "nbformat_minor": 2
}
